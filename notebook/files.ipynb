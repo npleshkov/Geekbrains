{
 "cells": [
  {
   "cell_type": "code",
   "execution_count": 10,
   "metadata": {},
   "outputs": [
    {
     "name": "stdout",
     "output_type": "stream",
     "text": [
      "Hello world!\n",
      "\n"
     ]
    }
   ],
   "source": [
    "file = open('data/read.txt')\n",
    "print(file.readline())\n",
    "file.close()"
   ]
  },
  {
   "cell_type": "code",
   "execution_count": 17,
   "metadata": {},
   "outputs": [
    {
     "name": "stdout",
     "output_type": "stream",
     "text": [
      "Hello world!\n",
      "\n"
     ]
    }
   ],
   "source": [
    "with open('data/read.txt', 'r') as file:\n",
    "     print(file.readline())"
   ]
  },
  {
   "cell_type": "code",
   "execution_count": 19,
   "metadata": {},
   "outputs": [
    {
     "name": "stdout",
     "output_type": "stream",
     "text": [
      "9\n"
     ]
    }
   ],
   "source": [
    "with open('data/write.txt', 'w') as file:\n",
    "     print(file.write('Some Data'))"
   ]
  },
  {
   "cell_type": "code",
   "execution_count": 20,
   "metadata": {},
   "outputs": [
    {
     "name": "stdout",
     "output_type": "stream",
     "text": [
      "13\n"
     ]
    }
   ],
   "source": [
    "with open('data/write.txt', 'a') as file:\n",
    "     print(file.write('\\n Some1 Data\\n'))"
   ]
  },
  {
   "cell_type": "code",
   "execution_count": 23,
   "metadata": {},
   "outputs": [],
   "source": [
    "with open('data/write.txt', 'a') as file:\n",
    "     file.writelines(['\\n Some5 Data\\n', '\\n Some6 Data\\n'])"
   ]
  },
  {
   "cell_type": "code",
   "execution_count": 24,
   "metadata": {},
   "outputs": [
    {
     "name": "stdout",
     "output_type": "stream",
     "text": [
      "b'Some Data\\n Some1 Data\\n\\n Some3 Data\\n, \\n Some4 Data\\n\\n Some5 Data\\n\\n Some6 Data\\n'\n"
     ]
    }
   ],
   "source": [
    "with open('data/write.txt', 'rb') as file:\n",
    "     print(file.read())"
   ]
  },
  {
   "cell_type": "code",
   "execution_count": 27,
   "metadata": {},
   "outputs": [],
   "source": [
    "with open('data/write.txt', 'ab') as file:\n",
    "     file.write(b'\\nByte data')\n",
    "    "
   ]
  },
  {
   "cell_type": "code",
   "execution_count": 28,
   "metadata": {},
   "outputs": [
    {
     "name": "stdout",
     "output_type": "stream",
     "text": [
      "Hello world!\n",
      "Some data\n",
      "\n",
      "file = open(data/read.txt)\n",
      "print(file.readline())\n",
      "file.close()\n"
     ]
    }
   ],
   "source": [
    "with open('data/read.txt', encoding='utf-8') as file:\n",
    "     print(file.read())"
   ]
  },
  {
   "cell_type": "code",
   "execution_count": 32,
   "metadata": {},
   "outputs": [
    {
     "name": "stdout",
     "output_type": "stream",
     "text": [
      "Some Data\n",
      "\n",
      "Some Data\n",
      " Some1 Data\n",
      "\n",
      " Some3 Data\n",
      ", \n",
      " Some4 Data\n",
      "\n",
      " Some5 Data\n",
      "\n",
      " Some6 Data\n",
      "\n",
      "Byte data\n",
      " Some5 Data\n",
      "\n",
      " Some6 Data\n",
      "\n",
      " Some8 Data\n",
      "\n",
      " Some8 Data\n",
      "\n",
      " Some9 Data\n",
      "\n",
      " Some10 Data\n",
      "\n"
     ]
    }
   ],
   "source": [
    "with open('data/write.txt', 'r+') as file:\n",
    "    print(file.readline())\n",
    "    file.writelines(['\\n Some9 Data\\n', '\\n Some10 Data\\n'])\n",
    "    file.seek(0)\n",
    "    print(file.read())"
   ]
  },
  {
   "cell_type": "code",
   "execution_count": null,
   "metadata": {},
   "outputs": [],
   "source": []
  }
 ],
 "metadata": {
  "kernelspec": {
   "display_name": "Python 3",
   "language": "python",
   "name": "python3"
  },
  "language_info": {
   "codemirror_mode": {
    "name": "ipython",
    "version": 3
   },
   "file_extension": ".py",
   "mimetype": "text/x-python",
   "name": "python",
   "nbconvert_exporter": "python",
   "pygments_lexer": "ipython3",
   "version": "3.7.3"
  }
 },
 "nbformat": 4,
 "nbformat_minor": 2
}
