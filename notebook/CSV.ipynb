{
 "cells": [
  {
   "cell_type": "code",
   "execution_count": 1,
   "metadata": {},
   "outputs": [],
   "source": [
    "import csv"
   ]
  },
  {
   "cell_type": "code",
   "execution_count": 2,
   "metadata": {},
   "outputs": [
    {
     "ename": "NameError",
     "evalue": "name 'header1' is not defined",
     "output_type": "error",
     "traceback": [
      "\u001b[0;31m---------------------------------------------------------------------------\u001b[0m",
      "\u001b[0;31mNameError\u001b[0m                                 Traceback (most recent call last)",
      "\u001b[0;32m<ipython-input-2-4d8d1e4324bc>\u001b[0m in \u001b[0;36m<module>\u001b[0;34m\u001b[0m\n\u001b[1;32m      1\u001b[0m \u001b[0;34m...\u001b[0m\u001b[0;34m\u001b[0m\u001b[0;34m\u001b[0m\u001b[0m\n\u001b[0;32m----> 2\u001b[0;31m \u001b[0mheader1\u001b[0m\u001b[0;34m,\u001b[0m\u001b[0mheade2\u001b[0m\u001b[0;34m,\u001b[0m\u001b[0mheader3\u001b[0m\u001b[0;34m\u001b[0m\u001b[0;34m\u001b[0m\u001b[0m\n\u001b[0m\u001b[1;32m      3\u001b[0m \u001b[0mheader1\u001b[0m\u001b[0;34m,\u001b[0m\u001b[0mheade2\u001b[0m\u001b[0;34m,\u001b[0m\u001b[0mheader3\u001b[0m\u001b[0;34m\u001b[0m\u001b[0;34m\u001b[0m\u001b[0m\n\u001b[1;32m      4\u001b[0m \u001b[0mdata1\u001b[0m\u001b[0;34m,\u001b[0m\u001b[0mdata2\u001b[0m\u001b[0;34m,\u001b[0m\u001b[0mdata3\u001b[0m\u001b[0;34m\u001b[0m\u001b[0;34m\u001b[0m\u001b[0m\n\u001b[1;32m      5\u001b[0m \u001b[0mdata1\u001b[0m\u001b[0;34m,\u001b[0m\u001b[0mdata2\u001b[0m\u001b[0;34m,\u001b[0m\u001b[0mdata3\u001b[0m\u001b[0;34m\u001b[0m\u001b[0;34m\u001b[0m\u001b[0m\n",
      "\u001b[0;31mNameError\u001b[0m: name 'header1' is not defined"
     ]
    }
   ],
   "source": [
    "...\n",
    "header1,heade2,header3\n",
    "header1,heade2,header3\n",
    "data1,data2,data3\n",
    "data1,data2,data3\n",
    "data1,data2,data3\n",
    "data1,data2,data3\n",
    "data1,data2,data3\n",
    "..."
   ]
  },
  {
   "cell_type": "code",
   "execution_count": 6,
   "metadata": {},
   "outputs": [
    {
     "name": "stdout",
     "output_type": "stream",
     "text": [
      "['header1', 'heade2', 'header3']\n",
      "['data1', 'data2', 'data3']\n",
      "['data1', 'data2', 'data3']\n",
      "['data1', 'data2', 'data3']\n",
      "['data1', 'data2', 'data3']\n",
      "['data1', 'data2', 'data3']\n"
     ]
    }
   ],
   "source": [
    "with open('data/read.csv') as file:\n",
    "    reader = csv.reader(file)\n",
    "    for row in reader:\n",
    "        print(row)"
   ]
  },
  {
   "cell_type": "code",
   "execution_count": 7,
   "metadata": {},
   "outputs": [
    {
     "name": "stdout",
     "output_type": "stream",
     "text": [
      "OrderedDict([('header1', 'data1'), ('heade2', 'data2'), ('header3', 'data3')])\n",
      "OrderedDict([('header1', 'data1'), ('heade2', 'data2'), ('header3', 'data3')])\n",
      "OrderedDict([('header1', 'data1'), ('heade2', 'data2'), ('header3', 'data3')])\n",
      "OrderedDict([('header1', 'data1'), ('heade2', 'data2'), ('header3', 'data3')])\n",
      "OrderedDict([('header1', 'data1'), ('heade2', 'data2'), ('header3', 'data3')])\n"
     ]
    }
   ],
   "source": [
    "with open('data/read.csv') as file:\n",
    "    reader = csv.DictReader(file)\n",
    "    for row in reader:\n",
    "        print(row)"
   ]
  },
  {
   "cell_type": "code",
   "execution_count": 9,
   "metadata": {},
   "outputs": [],
   "source": [
    "data = [\n",
    "    ['header1', 'heade2', 'header3'],\n",
    "['data1', 'data2', 'data3'],\n",
    "['data1', 'data2', 'data3'],\n",
    "['data1', 'data2', 'data3'],\n",
    "['data1', 'data2', 'data3'],\n",
    "['data1', 'data2', 'data3'],\n",
    "]\n",
    "with open('data/write.csv','w') as file:\n",
    "    writer = csv.writer(file)\n",
    "    for row in data:\n",
    "        writer.writerow(row)"
   ]
  },
  {
   "cell_type": "code",
   "execution_count": null,
   "metadata": {},
   "outputs": [],
   "source": []
  }
 ],
 "metadata": {
  "kernelspec": {
   "display_name": "Python 3",
   "language": "python",
   "name": "python3"
  },
  "language_info": {
   "codemirror_mode": {
    "name": "ipython",
    "version": 3
   },
   "file_extension": ".py",
   "mimetype": "text/x-python",
   "name": "python",
   "nbconvert_exporter": "python",
   "pygments_lexer": "ipython3",
   "version": "3.7.3"
  }
 },
 "nbformat": 4,
 "nbformat_minor": 2
}
